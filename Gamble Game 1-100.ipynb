{
 "cells": [
  {
   "cell_type": "code",
   "execution_count": 41,
   "metadata": {
    "collapsed": true
   },
   "outputs": [],
   "source": [
    "import numpy as np"
   ]
  },
  {
   "cell_type": "code",
   "execution_count": 54,
   "metadata": {
    "collapsed": true
   },
   "outputs": [],
   "source": [
    "board = np.zeros(101)\n",
    "#reward = \n",
    "P_WIN = 0.4\n",
    "P_LOSE = 1 - P_WIN\n",
    "GAMMA = 1\n",
    "board[0] = -1\n",
    "board[100] = 1"
   ]
  },
  {
   "cell_type": "code",
   "execution_count": 55,
   "metadata": {},
   "outputs": [
    {
     "data": {
      "text/plain": [
       "[1,\n",
       " 2,\n",
       " 3,\n",
       " 4,\n",
       " 5,\n",
       " 6,\n",
       " 7,\n",
       " 8,\n",
       " 9,\n",
       " 10,\n",
       " 11,\n",
       " 12,\n",
       " 13,\n",
       " 14,\n",
       " 15,\n",
       " 16,\n",
       " 17,\n",
       " 18,\n",
       " 19,\n",
       " 20,\n",
       " 21,\n",
       " 22,\n",
       " 23,\n",
       " 24,\n",
       " 25,\n",
       " 26,\n",
       " 27,\n",
       " 28,\n",
       " 29,\n",
       " 30,\n",
       " 31,\n",
       " 32,\n",
       " 33,\n",
       " 34,\n",
       " 35,\n",
       " 36,\n",
       " 37,\n",
       " 38,\n",
       " 39,\n",
       " 40,\n",
       " 41,\n",
       " 42,\n",
       " 43,\n",
       " 44,\n",
       " 45,\n",
       " 46,\n",
       " 47,\n",
       " 48,\n",
       " 49,\n",
       " 50]"
      ]
     },
     "execution_count": 55,
     "metadata": {},
     "output_type": "execute_result"
    }
   ],
   "source": [
    "def getActions(pos):\n",
    "    actions = []\n",
    "    if (pos<=50):\n",
    "        actions = [i for i in range(1,pos+1)]\n",
    "        return actions\n",
    "    actions = [100-i for i in range(pos,100)]\n",
    "    return actions\n",
    "getActions(50)"
   ]
  },
  {
   "cell_type": "code",
   "execution_count": 56,
   "metadata": {},
   "outputs": [
    {
     "name": "stdout",
     "output_type": "stream",
     "text": [
      "46\n"
     ]
    },
    {
     "data": {
      "text/plain": [
       "array([-1.        , -0.99813312, -0.99533916, -0.99182641, -0.98769658,\n",
       "       -0.98301707, -0.97783711, -0.97218356, -0.96608823, -0.95958433,\n",
       "       -0.95269466, -0.94543149, -0.93779398, -0.92976871, -0.92139637,\n",
       "       -0.9127148 , -0.90374249, -0.89448717, -0.88495002, -0.87512884,\n",
       "       -0.86502037, -0.85461503, -0.84389592, -0.83283686, -0.82139447,\n",
       "       -0.80947759, -0.79740397, -0.78526432, -0.77301755, -0.76063115,\n",
       "       -0.74807878, -0.7353385 , -0.72239288, -0.70922722, -0.69582687,\n",
       "       -0.68217846, -0.66827101, -0.6540986 , -0.63966671, -0.62496494,\n",
       "       -0.60996229, -0.59462934, -0.57893591, -0.56284894, -0.54632885,\n",
       "       -0.52931898, -0.51174316, -0.4934977 , -0.47442173, -0.45422662,\n",
       "       -0.43207373, -0.41830027, -0.40403685, -0.38931982, -0.37417272,\n",
       "       -0.35861353, -0.34265576, -0.32631173, -0.30959315, -0.29250629,\n",
       "       -0.27505567, -0.25724665, -0.2390878 , -0.22059663, -0.20178254,\n",
       "       -0.18263017, -0.16312919, -0.14327434, -0.1230643 , -0.10250152,\n",
       "       -0.08159034, -0.06033983, -0.03877019, -0.01691708,  0.00515685,\n",
       "        0.02733335,  0.04958458,  0.0724656 ,  0.0959712 ,  0.12010374,\n",
       "        0.14487186,  0.17028983,  0.19637868,  0.2231703 ,  0.25070166,\n",
       "        0.27901628,  0.30817165,  0.3382518 ,  0.3694018 ,  0.40184914,\n",
       "        0.43573548,  0.4712276 ,  0.5085587 ,  0.54805532,  0.59018756,\n",
       "        0.63561507,  0.68525065,  0.7405961 ,  0.8043828 ,  0.88269039,\n",
       "        1.        ])"
      ]
     },
     "execution_count": 56,
     "metadata": {},
     "output_type": "execute_result"
    }
   ],
   "source": [
    "iter = 0 \n",
    "while True:\n",
    "    iter += 1\n",
    "    newboard = np.zeros(101)\n",
    "    newboard[0] = -1 \n",
    "    newboard[100] = 1\n",
    "    for i in range(1,100):\n",
    "        if(i==0 or i ==100):\n",
    "            continue\n",
    "        expected_return = 0\n",
    "        actions = getActions(i)\n",
    "        for action in actions:\n",
    "            expected_return += 1/(len(actions)) * (P_WIN*board[i+action] + P_LOSE*board[i-action])\n",
    "        newboard[i] = expected_return\n",
    "    difference = np.abs(board-newboard)\n",
    "    differenceSum = difference.sum()\n",
    "    board = newboard\n",
    "    if (differenceSum < 0.01):\n",
    "        break\n",
    "print(iter)\n",
    "board"
   ]
  },
  {
   "cell_type": "code",
   "execution_count": null,
   "metadata": {},
   "outputs": [],
   "source": []
  },
  {
   "cell_type": "code",
   "execution_count": null,
   "metadata": {
    "collapsed": true
   },
   "outputs": [],
   "source": []
  }
 ],
 "metadata": {
  "kernelspec": {
   "display_name": "Python 3",
   "language": "python",
   "name": "python3"
  },
  "language_info": {
   "codemirror_mode": {
    "name": "ipython",
    "version": 3
   },
   "file_extension": ".py",
   "mimetype": "text/x-python",
   "name": "python",
   "nbconvert_exporter": "python",
   "pygments_lexer": "ipython3",
   "version": "3.6.3"
  }
 },
 "nbformat": 4,
 "nbformat_minor": 2
}
